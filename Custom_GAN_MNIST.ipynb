{
 "cells": [
  {
   "cell_type": "code",
   "execution_count": null,
   "metadata": {
    "colab": {
     "base_uri": "https://localhost:8080/"
    },
    "id": "05VXqOfNwNnR",
    "outputId": "108b9888-1ee3-449d-d767-f078a133871a"
   },
   "outputs": [
    {
     "name": "stdout",
     "output_type": "stream",
     "text": [
      "\u001b[2K   \u001b[90m━━━━━━━━━━━━━━━━━━━━━━━━━━━━━━━━━━━━━━━━\u001b[0m \u001b[32m825.4/825.4 kB\u001b[0m \u001b[31m12.8 MB/s\u001b[0m eta \u001b[36m0:00:00\u001b[0m\n",
      "\u001b[2K   \u001b[90m━━━━━━━━━━━━━━━━━━━━━━━━━━━━━━━━━━━━━━━━\u001b[0m \u001b[32m363.4/363.4 MB\u001b[0m \u001b[31m3.6 MB/s\u001b[0m eta \u001b[36m0:00:00\u001b[0m\n",
      "\u001b[2K   \u001b[90m━━━━━━━━━━━━━━━━━━━━━━━━━━━━━━━━━━━━━━━━\u001b[0m \u001b[32m13.8/13.8 MB\u001b[0m \u001b[31m95.9 MB/s\u001b[0m eta \u001b[36m0:00:00\u001b[0m\n",
      "\u001b[2K   \u001b[90m━━━━━━━━━━━━━━━━━━━━━━━━━━━━━━━━━━━━━━━━\u001b[0m \u001b[32m24.6/24.6 MB\u001b[0m \u001b[31m77.4 MB/s\u001b[0m eta \u001b[36m0:00:00\u001b[0m\n",
      "\u001b[2K   \u001b[90m━━━━━━━━━━━━━━━━━━━━━━━━━━━━━━━━━━━━━━━━\u001b[0m \u001b[32m883.7/883.7 kB\u001b[0m \u001b[31m45.9 MB/s\u001b[0m eta \u001b[36m0:00:00\u001b[0m\n",
      "\u001b[2K   \u001b[90m━━━━━━━━━━━━━━━━━━━━━━━━━━━━━━━━━━━━━━━━\u001b[0m \u001b[32m664.8/664.8 MB\u001b[0m \u001b[31m2.0 MB/s\u001b[0m eta \u001b[36m0:00:00\u001b[0m\n",
      "\u001b[2K   \u001b[90m━━━━━━━━━━━━━━━━━━━━━━━━━━━━━━━━━━━━━━━━\u001b[0m \u001b[32m211.5/211.5 MB\u001b[0m \u001b[31m5.9 MB/s\u001b[0m eta \u001b[36m0:00:00\u001b[0m\n",
      "\u001b[2K   \u001b[90m━━━━━━━━━━━━━━━━━━━━━━━━━━━━━━━━━━━━━━━━\u001b[0m \u001b[32m56.3/56.3 MB\u001b[0m \u001b[31m12.2 MB/s\u001b[0m eta \u001b[36m0:00:00\u001b[0m\n",
      "\u001b[2K   \u001b[90m━━━━━━━━━━━━━━━━━━━━━━━━━━━━━━━━━━━━━━━━\u001b[0m \u001b[32m127.9/127.9 MB\u001b[0m \u001b[31m7.1 MB/s\u001b[0m eta \u001b[36m0:00:00\u001b[0m\n",
      "\u001b[2K   \u001b[90m━━━━━━━━━━━━━━━━━━━━━━━━━━━━━━━━━━━━━━━━\u001b[0m \u001b[32m207.5/207.5 MB\u001b[0m \u001b[31m6.0 MB/s\u001b[0m eta \u001b[36m0:00:00\u001b[0m\n",
      "\u001b[2K   \u001b[90m━━━━━━━━━━━━━━━━━━━━━━━━━━━━━━━━━━━━━━━━\u001b[0m \u001b[32m21.1/21.1 MB\u001b[0m \u001b[31m84.8 MB/s\u001b[0m eta \u001b[36m0:00:00\u001b[0m\n",
      "\u001b[2K   \u001b[90m━━━━━━━━━━━━━━━━━━━━━━━━━━━━━━━━━━━━━━━━\u001b[0m \u001b[32m963.5/963.5 kB\u001b[0m \u001b[31m45.1 MB/s\u001b[0m eta \u001b[36m0:00:00\u001b[0m\n",
      "\u001b[?25hUsing cpu\n"
     ]
    }
   ],
   "source": [
    "!pip install -q pytorch-lightning\n",
    "\n",
    "# Imports\n",
    "import os\n",
    "import torch\n",
    "import torch.nn as nn\n",
    "import torch.nn.functional as F\n",
    "import torchvision\n",
    "import torchvision.transforms as transforms\n",
    "from torchvision.datasets import MNIST\n",
    "from torch.utils.data import DataLoader, Dataset\n",
    "import pytorch_lightning as pl\n",
    "import matplotlib.pyplot as plt\n",
    "\n",
    "# Use GPU if available\n",
    "device = torch.device(\"cuda\" if torch.cuda.is_available() else \"cpu\")\n",
    "print(\"Using\", device)\n"
   ]
  },
  {
   "cell_type": "code",
   "execution_count": null,
   "metadata": {
    "colab": {
     "base_uri": "https://localhost:8080/"
    },
    "id": "Cat8P1CWwWIN",
    "outputId": "bdf78b35-879b-4753-8a30-1a5cdc04413f"
   },
   "outputs": [
    {
     "name": "stderr",
     "output_type": "stream",
     "text": [
      "100%|██████████| 9.91M/9.91M [00:00<00:00, 52.6MB/s]\n",
      "100%|██████████| 28.9k/28.9k [00:00<00:00, 1.63MB/s]\n",
      "100%|██████████| 1.65M/1.65M [00:00<00:00, 11.8MB/s]\n",
      "100%|██████████| 4.54k/4.54k [00:00<00:00, 4.66MB/s]\n"
     ]
    },
    {
     "name": "stdout",
     "output_type": "stream",
     "text": [
      "Image batch shape: torch.Size([128, 1, 28, 28])\n",
      "Label batch shape: torch.Size([128])\n"
     ]
    }
   ],
   "source": [
    "# Transformation: Normalize and convert to tensor\n",
    "transform = transforms.Compose([\n",
    "    transforms.ToTensor(),\n",
    "    transforms.Normalize((0.5,), (0.5,))  # Scale to [-1, 1]\n",
    "])\n",
    "\n",
    "# Load MNIST training data\n",
    "mnist_train = MNIST(root=\"./data\", train=True, transform=transform, download=True)\n",
    "mnist_loader = DataLoader(mnist_train, batch_size=128, shuffle=True, num_workers=2)\n",
    "\n",
    "# Check one batch shape\n",
    "images, labels = next(iter(mnist_loader))\n",
    "print(\"Image batch shape:\", images.shape)\n",
    "print(\"Label batch shape:\", labels.shape)\n"
   ]
  },
  {
   "cell_type": "code",
   "execution_count": null,
   "metadata": {
    "id": "-fPz6Gd4whE4"
   },
   "outputs": [],
   "source": [
    "class Generator(nn.Module):\n",
    "    def __init__(self, noise_dim, label_dim, img_shape):\n",
    "        super(Generator, self).__init__()\n",
    "        self.label_emb = nn.Embedding(10, label_dim)\n",
    "\n",
    "        self.model = nn.Sequential(\n",
    "            nn.Linear(noise_dim + label_dim, 128),\n",
    "            nn.ReLU(),\n",
    "            nn.Linear(128, 256),\n",
    "            nn.BatchNorm1d(256),\n",
    "            nn.ReLU(),\n",
    "            nn.Linear(256, 512),\n",
    "            nn.BatchNorm1d(512),\n",
    "            nn.ReLU(),\n",
    "            nn.Linear(512, int(torch.prod(torch.tensor(img_shape)))),\n",
    "            nn.Tanh()\n",
    "        )\n",
    "        self.img_shape = img_shape\n",
    "\n",
    "    def forward(self, noise, labels):\n",
    "        label_input = self.label_emb(labels)\n",
    "        x = torch.cat((noise, label_input), dim=1)\n",
    "        img = self.model(x)\n",
    "        return img.view(img.size(0), *self.img_shape)\n"
   ]
  },
  {
   "cell_type": "code",
   "execution_count": null,
   "metadata": {
    "id": "7SKUgq7zw-ml"
   },
   "outputs": [],
   "source": [
    "class Discriminator(nn.Module):\n",
    "    def __init__(self, label_dim, img_shape):\n",
    "        super(Discriminator, self).__init__()\n",
    "        self.label_emb = nn.Embedding(10, label_dim)\n",
    "\n",
    "        self.model = nn.Sequential(\n",
    "            nn.Linear(label_dim + int(torch.prod(torch.tensor(img_shape))), 512),\n",
    "            nn.LeakyReLU(0.2),\n",
    "            nn.Linear(512, 256),\n",
    "            nn.LeakyReLU(0.2),\n",
    "            nn.Linear(256, 1),\n",
    "            nn.Sigmoid()\n",
    "        )\n",
    "\n",
    "    def forward(self, img, labels):\n",
    "        label_input = self.label_emb(labels)\n",
    "        img_flat = img.view(img.size(0), -1)\n",
    "        x = torch.cat((img_flat, label_input), dim=1)\n",
    "        return self.model(x)\n"
   ]
  },
  {
   "cell_type": "code",
   "execution_count": null,
   "metadata": {
    "id": "eJz1n5uzxACb"
   },
   "outputs": [],
   "source": [
    "class cGAN(pl.LightningModule):\n",
    "    def __init__(self, noise_dim=100, label_dim=10, img_shape=(1, 28, 28), lr=0.0002):\n",
    "        super().__init__()\n",
    "        self.save_hyperparameters()\n",
    "        self.generator = Generator(noise_dim, label_dim, img_shape)\n",
    "        self.discriminator = Discriminator(label_dim, img_shape)\n",
    "        self.loss = nn.BCELoss()\n",
    "        self.automatic_optimization = False  # << Manual mode\n",
    "\n",
    "    def forward(self, z, labels):\n",
    "        return self.generator(z, labels)\n",
    "\n",
    "    def training_step(self, batch, batch_idx):\n",
    "        opt_g, opt_d = self.optimizers()\n",
    "        real_imgs, labels = batch\n",
    "        batch_size = real_imgs.size(0)\n",
    "\n",
    "        # Train Discriminator\n",
    "        real_validity = self.discriminator(real_imgs, labels)\n",
    "        real_loss = self.loss(real_validity, torch.ones_like(real_validity))\n",
    "        z = torch.randn(batch_size, self.hparams.noise_dim, device=self.device)\n",
    "        fake_imgs = self(z, labels).detach()\n",
    "        fake_validity = self.discriminator(fake_imgs, labels)\n",
    "        fake_loss = self.loss(fake_validity, torch.zeros_like(fake_validity))\n",
    "        d_loss = (real_loss + fake_loss) / 2\n",
    "        opt_d.zero_grad()\n",
    "        self.manual_backward(d_loss)\n",
    "        opt_d.step()\n",
    "\n",
    "        # Train Generator\n",
    "        z = torch.randn(batch_size, self.hparams.noise_dim, device=self.device)\n",
    "        gen_imgs = self(z, labels)\n",
    "        validity = self.discriminator(gen_imgs, labels)\n",
    "        g_loss = self.loss(validity, torch.ones_like(validity))\n",
    "        opt_g.zero_grad()\n",
    "        self.manual_backward(g_loss)\n",
    "        opt_g.step()\n",
    "        self.log(\"g_loss\", g_loss, prog_bar=True)\n",
    "        self.log(\"d_loss\", d_loss, prog_bar=True)\n",
    "\n",
    "    def configure_optimizers(self):\n",
    "        opt_g = torch.optim.Adam(self.generator.parameters(), lr=self.hparams.lr, betas=(0.5, 0.999))\n",
    "        opt_d = torch.optim.Adam(self.discriminator.parameters(), lr=self.hparams.lr, betas=(0.5, 0.999))\n",
    "        return [opt_g, opt_d]"
   ]
  },
  {
   "cell_type": "code",
   "execution_count": null,
   "metadata": {
    "colab": {
     "base_uri": "https://localhost:8080/",
     "height": 381,
     "referenced_widgets": [
      "40b354e7c4da45a99c4c85fe382baadc",
      "d532ff670b3c43a3bf725701a93220cc",
      "c16e3304f9c749c094994ce4404be48c",
      "ca9ec7c1d96448f2adc7cc7b64149c8b",
      "8ea44c91959341dfbfe3cb23c6afb8c2",
      "00f826b35c064f52a2f23c4cefa2845b",
      "3ad667e2c50a4309872996e830506dcb",
      "24c441920caa4f61897ad3510167420e",
      "16f37aea2eb64532aa6b2d43e5baada1",
      "e122b5072d8740168cd39aeb308877c7",
      "1626f2f2ec734a7eb670249f38e6efd3"
     ]
    },
    "id": "yl4R8j9-xFSR",
    "outputId": "cce9e420-0873-4b1c-b038-6db8e4aa5938"
   },
   "outputs": [
    {
     "name": "stderr",
     "output_type": "stream",
     "text": [
      "INFO:pytorch_lightning.utilities.rank_zero:💡 Tip: For seamless cloud uploads and versioning, try installing [litmodels](https://pypi.org/project/litmodels/) to enable LitModelCheckpoint, which syncs automatically with the Lightning model registry.\n",
      "INFO:pytorch_lightning.utilities.rank_zero:GPU available: False, used: False\n",
      "INFO:pytorch_lightning.utilities.rank_zero:TPU available: False, using: 0 TPU cores\n",
      "INFO:pytorch_lightning.utilities.rank_zero:HPU available: False, using: 0 HPUs\n",
      "INFO:pytorch_lightning.callbacks.model_summary:\n",
      "  | Name          | Type          | Params | Mode \n",
      "--------------------------------------------------------\n",
      "0 | generator     | Generator     | 582 K  | train\n",
      "1 | discriminator | Discriminator | 538 K  | train\n",
      "2 | loss          | BCELoss       | 0      | train\n",
      "--------------------------------------------------------\n",
      "1.1 M     Trainable params\n",
      "0         Non-trainable params\n",
      "1.1 M     Total params\n",
      "4.485     Total estimated model params size (MB)\n",
      "23        Modules in train mode\n",
      "0         Modules in eval mode\n"
     ]
    },
    {
     "data": {
      "application/vnd.jupyter.widget-view+json": {
       "model_id": "40b354e7c4da45a99c4c85fe382baadc",
       "version_major": 2,
       "version_minor": 0
      },
      "text/plain": [
       "Training: |          | 0/? [00:00<?, ?it/s]"
      ]
     },
     "metadata": {},
     "output_type": "display_data"
    },
    {
     "name": "stderr",
     "output_type": "stream",
     "text": [
      "INFO:pytorch_lightning.utilities.rank_zero:`Trainer.fit` stopped: `max_epochs=20` reached.\n"
     ]
    }
   ],
   "source": [
    "# Hyperparameters\n",
    "noise_dim = 100\n",
    "label_dim = 10\n",
    "img_shape = (1, 28, 28)\n",
    "lr = 0.0002\n",
    "epochs = 20\n",
    "\n",
    "# Initialize the model\n",
    "model = cGAN(noise_dim=noise_dim, label_dim=label_dim, img_shape=img_shape, lr=lr)\n",
    "\n",
    "# Lightning Trainer\n",
    "trainer = pl.Trainer(\n",
    "    max_epochs=epochs,\n",
    "    accelerator=\"auto\",\n",
    "    devices=1,  # Always set to 1 regardless of GPU or CPU\n",
    "    log_every_n_steps=50\n",
    ")\n",
    "\n",
    "\n",
    "# Train\n",
    "trainer.fit(model, mnist_loader)\n"
   ]
  },
  {
   "cell_type": "code",
   "execution_count": null,
   "metadata": {
    "colab": {
     "base_uri": "https://localhost:8080/",
     "height": 183
    },
    "id": "4x9Q5S9RxLcI",
    "outputId": "ab667be3-21d4-4456-dc42-673dd94b5da2"
   },
   "outputs": [
    {
     "data": {
      "image/png": "[encoded data removed]",
      "text/plain": [
       "<Figure size 1500x200 with 10 Axes>"
      ]
     },
     "metadata": {},
     "output_type": "display_data"
    }
   ],
   "source": [
    "import numpy as np\n",
    "\n",
    "def generate_digit_grid(model, noise_dim=100):\n",
    "    model.eval()\n",
    "    # Generate one image per digit label (0 to 9)\n",
    "    n_digits = 10\n",
    "    z = torch.randn(n_digits, noise_dim).to(model.device)\n",
    "    labels = torch.arange(0, n_digits).to(model.device)\n",
    "    with torch.no_grad():\n",
    "        generated_imgs = model(z, labels)\n",
    "        generated_imgs = generated_imgs.cpu().numpy()\n",
    "    # Plot the results\n",
    "    fig, axs = plt.subplots(1, 10, figsize=(15, 2))\n",
    "    for i in range(n_digits):\n",
    "        axs[i].imshow(generated_imgs[i][0], cmap=\"gray\")\n",
    "        axs[i].axis(\"off\")\n",
    "        axs[i].set_title(str(i))\n",
    "    plt.suptitle(\"Generated Digits 0–9\")\n",
    "    plt.show()\n",
    "# Run the function\n",
    "generate_digit_grid(model)\n"
   ]
  },
  {
   "cell_type": "code",
   "execution_count": null,
   "metadata": {
    "id": "9LRWshMC1SfP"
   },
   "outputs": [],
   "source": [
    "def generate_specific_digit(model, digit, noise_dim=100):\n",
    "    assert 0 <= digit <= 9, \"Digit must be between 0 and 9\"\n",
    "    model.eval()\n",
    "    z = torch.randn(1, noise_dim).to(model.device)\n",
    "    label = torch.tensor([digit]).to(model.device)\n",
    "    with torch.no_grad():\n",
    "        generated_img = model(z, label)\n",
    "        img = generated_img[0][0].cpu().numpy()\n",
    "    plt.imshow(img, cmap='gray')\n",
    "    plt.title(f\"Generated Digit: {digit}\")\n",
    "    plt.axis('off')\n",
    "    plt.show()"
   ]
  },
  {
   "cell_type": "code",
   "execution_count": null,
   "metadata": {
    "colab": {
     "base_uri": "https://localhost:8080/",
     "height": 428
    },
    "id": "zspSSQmzxtZk",
    "outputId": "3f07dd81-1f7b-4f66-82b2-a63006432368"
   },
   "outputs": [
    {
     "data": {
      "image/png": "[encoded data removed]",
      "text/plain": [
       "<Figure size 640x480 with 1 Axes>"
      ]
     },
     "metadata": {},
     "output_type": "display_data"
    }
   ],
   "source": [
    "generate_specific_digit(model, digit=8)"
   ]
  },
  {
   "cell_type": "code",
   "execution_count": null,
   "metadata": {
    "id": "OGw_mN4a1U-H"
   },
   "outputs": [],
   "source": []
  }
 ],
 "metadata": {
  "colab": {
   "provenance": []
  },
  "kernelspec": {
   "display_name": "Python 3",
   "name": "python3"
  },
  "language_info": {
   "name": "python"
  }
 },
 "nbformat": 4,
 "nbformat_minor": 0
}
